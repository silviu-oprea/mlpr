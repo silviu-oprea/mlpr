{
 "cells": [
  {
   "cell_type": "markdown",
   "metadata": {},
   "source": [
    "# Complexity\n",
    "NP stands for nondeterministic polynomial.\n",
    "\n",
    "- Nondeterministic Turing machine: theoretical model of computation whose governing rules specify more than one possible action when in some given situations.\n",
    "- Problem that is in **NP**: given a solution, it can be verified in polynomial time. Equivalently, it can be solved in polynomial time by a nondeterministic Turing machine.\n",
    "- **NP-hard** problem: everything in NP can be transformed in polynomial time into it, even though it may not be in NP. That is, it can simulate any other problem in NP, and if a solution is found to this problem, it applies to all other problems in NP as well.\n",
    "- **NP-complete** problem: it is both in NP and NP-hard.\n",
    "\n",
    "P vs NP formulations:\n",
    "- Can [everything that can be verified in polynomial time] also be [computed in polynomial time]?\n",
    "- Can we simulate nondeterministic computation with a deterministic computer?\n",
    "\n",
    "Philosophy:\n",
    "- is intelligent behaviour nondeterministic? recall quantum mechanics, and God. What started the universe? I believe that the universe is not deterministic.\n",
    "- if P=NP, can we build artificial intellligence?"
   ]
  }
 ],
 "metadata": {
  "interpreter": {
   "hash": "68b355cc2da9a16373f175e969c590b929502fd45fdce3f5fc38f9d16ba5406c"
  },
  "kernelspec": {
   "display_name": "Python 3.7.12 64-bit ('nlp': conda)",
   "language": "python",
   "name": "python3"
  },
  "language_info": {
   "name": "python",
   "version": "3.7.12"
  },
  "orig_nbformat": 4
 },
 "nbformat": 4,
 "nbformat_minor": 2
}

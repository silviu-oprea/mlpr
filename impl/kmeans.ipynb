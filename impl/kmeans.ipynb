{
 "cells": [
  {
   "cell_type": "markdown",
   "metadata": {},
   "source": [
    "For theory see [here](Impl - Nearest Neighbours.ipynb)\n",
    "\n",
    "$N$ points to be clustered around $K$ means.\n",
    "Assume initial means $m_{1:K}^{(0)}$ are given.\n",
    "For every time step $t$:\n",
    "1. Assign points to means based on squared Euclidean distance:\n",
    "   $$ S_k^{(t)} = \\{x: \\| x - m_k^{(t)} \\| \\le \\| x - m_l^{(t)} \\| \\}, \\forall 1 \\le l \\le K.$$\n",
    "\n",
    "2. Compute the new means:\n",
    "   $$ m_k^{(t + 1)} = \\frac{1}{ | S_k^{(t)} | } \\sum_{x \\in S_k^{(t)}} x.$$\n",
    "\n",
    "Run this until convergence, i.e. until assignments do not change. Say that took $T$ steps.\n",
    "\n",
    "Initialisation strategies:\n",
    "1. Forgy: choose random $K$ means from the data.\n",
    "2. Random Partition: randomly assign each point to a cluster, then compute means.\n",
    "\n",
    "Complexity:\n",
    "- Time: $O(N*d*K*T)$, $N$ is the number of points, $d$ is the dimensionality of each point, $K$ is the number of means, and $T$ is the number of iterations until convergence.\n",
    "- Space: "
   ]
  },
  {
   "cell_type": "code",
   "execution_count": 1,
   "metadata": {},
   "outputs": [
    {
     "ename": "TypeError",
     "evalue": "unsupported operand type(s) for -: 'list' and 'Tensor'",
     "output_type": "error",
     "traceback": [
      "\u001b[0;31m---------------------------------------------------------------------------\u001b[0m",
      "\u001b[0;31mTypeError\u001b[0m                                 Traceback (most recent call last)",
      "\u001b[0;32m/var/folders/fn/38gpxmx55kj96sbm00f9l89m0000gn/T/ipykernel_7427/883840286.py\u001b[0m in \u001b[0;36m<module>\u001b[0;34m\u001b[0m\n\u001b[1;32m     53\u001b[0m \u001b[0;31m# and compute initial assignments.\u001b[0m\u001b[0;34m\u001b[0m\u001b[0;34m\u001b[0m\u001b[0;34m\u001b[0m\u001b[0m\n\u001b[1;32m     54\u001b[0m \u001b[0mmeans\u001b[0m \u001b[0;34m=\u001b[0m \u001b[0mrandom\u001b[0m\u001b[0;34m.\u001b[0m\u001b[0msample\u001b[0m\u001b[0;34m(\u001b[0m\u001b[0mrange\u001b[0m\u001b[0;34m(\u001b[0m\u001b[0mlen\u001b[0m\u001b[0;34m(\u001b[0m\u001b[0minputs\u001b[0m\u001b[0;34m)\u001b[0m\u001b[0;34m)\u001b[0m\u001b[0;34m,\u001b[0m \u001b[0mK\u001b[0m\u001b[0;34m)\u001b[0m\u001b[0;34m\u001b[0m\u001b[0;34m\u001b[0m\u001b[0m\n\u001b[0;32m---> 55\u001b[0;31m \u001b[0mprev_assignments\u001b[0m \u001b[0;34m=\u001b[0m \u001b[0massign\u001b[0m\u001b[0;34m(\u001b[0m\u001b[0minputs\u001b[0m\u001b[0;34m,\u001b[0m \u001b[0mmeans\u001b[0m\u001b[0;34m)\u001b[0m\u001b[0;34m\u001b[0m\u001b[0;34m\u001b[0m\u001b[0m\n\u001b[0m\u001b[1;32m     56\u001b[0m \u001b[0;34m\u001b[0m\u001b[0m\n\u001b[1;32m     57\u001b[0m \u001b[0;32mwhile\u001b[0m \u001b[0;32mTrue\u001b[0m\u001b[0;34m:\u001b[0m\u001b[0;34m\u001b[0m\u001b[0;34m\u001b[0m\u001b[0m\n",
      "\u001b[0;32m/var/folders/fn/38gpxmx55kj96sbm00f9l89m0000gn/T/ipykernel_7427/883840286.py\u001b[0m in \u001b[0;36massign\u001b[0;34m(inputs, means)\u001b[0m\n\u001b[1;32m     15\u001b[0m     \u001b[0;31m# [K, D] - [N, 1, D] = [N, K, D]\u001b[0m\u001b[0;34m\u001b[0m\u001b[0;34m\u001b[0m\u001b[0;34m\u001b[0m\u001b[0m\n\u001b[1;32m     16\u001b[0m     \u001b[0;31m# diff[n][k]: point n - mean k\u001b[0m\u001b[0;34m\u001b[0m\u001b[0;34m\u001b[0m\u001b[0;34m\u001b[0m\u001b[0m\n\u001b[0;32m---> 17\u001b[0;31m     \u001b[0mdiff\u001b[0m \u001b[0;34m=\u001b[0m \u001b[0mmeans\u001b[0m \u001b[0;34m-\u001b[0m \u001b[0minputs\u001b[0m\u001b[0;34m.\u001b[0m\u001b[0munsqueeze\u001b[0m\u001b[0;34m(\u001b[0m\u001b[0;36m1\u001b[0m\u001b[0;34m)\u001b[0m\u001b[0;34m\u001b[0m\u001b[0;34m\u001b[0m\u001b[0m\n\u001b[0m\u001b[1;32m     18\u001b[0m \u001b[0;34m\u001b[0m\u001b[0m\n\u001b[1;32m     19\u001b[0m     \u001b[0;31m# [N, K, D].sum(dim=2) = [N, K]\u001b[0m\u001b[0;34m\u001b[0m\u001b[0;34m\u001b[0m\u001b[0;34m\u001b[0m\u001b[0m\n",
      "\u001b[0;31mTypeError\u001b[0m: unsupported operand type(s) for -: 'list' and 'Tensor'"
     ]
    }
   ],
   "source": [
    "import torch\n",
    "import random\n",
    "from collections import defaultdict\n",
    "\n",
    "def assign(inputs, means):\n",
    "    \"\"\"\n",
    "    Assigns points to means\n",
    "    Args:\n",
    "        inputs: [N, D]\n",
    "        means: [K, D] current means\n",
    "    Returns:\n",
    "        [N] Array of indexes, each ranging from 0 to K.\n",
    "        Index k represents cluster of inputs[k]\n",
    "    \"\"\"\n",
    "    # [K, D] - [N, 1, D] = [N, K, D]\n",
    "    # diff[n][k]: point n - mean k\n",
    "    diff = means - inputs.unsqueeze(1)\n",
    "\n",
    "    # [N, K, D].sum(dim=2) = [N, K]\n",
    "    # dist[n][k]: squared distance from point n to centroid k.\n",
    "    dist = (diff ** 2).sum(dim=2)\n",
    "\n",
    "    # [N]\n",
    "    assignments = dist.argmin(dim=1)\n",
    "    return assignments\n",
    "\n",
    "\n",
    "def converged(prev_assignments, assignments):\n",
    "    \"\"\"\n",
    "    Args:\n",
    "    \"\"\"\n",
    "    # Think about floating point non-determinism\n",
    "    return prev_assignments == assignments\n",
    "\n",
    "\n",
    "def compute_means(inputs, assignments):\n",
    "    D = inputs.size(dim=1)\n",
    "    means = torch.zeros([K, D])\n",
    "    idx_counts = torch.zeros([K])\n",
    "    for idx in assignments:\n",
    "        means[idx] += inputs[idx]\n",
    "        idx_counts[idx] += 1\n",
    "    means = means / idx_counts.unsqueeze(dim=1)\n",
    "    # [K, D]\n",
    "    return means\n",
    "\n",
    "K = 5 # number of clusters\n",
    "\n",
    "# [N, D] Inputs\n",
    "inputs = torch.randn(50, 2)\n",
    "\n",
    "# Initialisation: choose random K means from the data\n",
    "# and compute initial assignments.\n",
    "means = random.sample(range(len(inputs)), K)\n",
    "prev_assignments = assign(inputs, means)\n",
    "\n",
    "while True:\n",
    "    # [N] Array of indexes, each ranging from 0 to K\n",
    "    # Index k represents cluster of inputs[k]\n",
    "    assignments = assign(inputs, means)\n",
    "    \n",
    "    # Exit if the convergence criterion is met\n",
    "    if converged(prev_assignments, assignments):\n",
    "        break\n",
    "    prev_assignments = assignments\n",
    "    \n",
    "    # [K, D] Array of cluster means\n",
    "    means = compute_means(inputs, assignments)\n",
    "    "
   ]
  }
 ],
 "metadata": {
  "interpreter": {
   "hash": "68b355cc2da9a16373f175e969c590b929502fd45fdce3f5fc38f9d16ba5406c"
  },
  "kernelspec": {
   "display_name": "Python 3.7.12 64-bit ('nlp': conda)",
   "language": "python",
   "name": "python3"
  },
  "language_info": {
   "codemirror_mode": {
    "name": "ipython",
    "version": 3
   },
   "file_extension": ".py",
   "mimetype": "text/x-python",
   "name": "python",
   "nbconvert_exporter": "python",
   "pygments_lexer": "ipython3",
   "version": "3.7.12"
  },
  "orig_nbformat": 4
 },
 "nbformat": 4,
 "nbformat_minor": 2
}

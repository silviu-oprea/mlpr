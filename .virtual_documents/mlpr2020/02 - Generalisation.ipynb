import plotly.graph_objects as go
from plotly.subplots import make_subplots
from slib import plots as plot_utils
import numpy as np
from ipywidgets import *
from IPython.core.display import SVG
import itertools
from tqdm import tqdm
np.set_printoptions(precision=3)


grid_size = 100
X_grid = np.linspace(0, 3, grid_size)[:, None] # [grid_size, 1]
true_f = lambda x: np.tanh(x) # the true generating function

# Build training data by taking N random points from X_grid and adding independent random normal noise to each
N = 10 # number of training points
X = np.array([0.061, 0.152, 0.515, 1.727, 2., 2.03, 2.273, 2.394, 2.515, 2.818])[:, None]
y = np.array([-0.006, 0.24, 0.413, 1.018, 0.899, 0.89, 0.998, 0.884, 1.101, 1.097])[:, None]
#X = X_grid[np.sort(np.random.choice(range(X_grid.shape[0]), N, replace=False))]
#y = G(X) + np.random.randn(X.shape[0])[:, None] / 10

def phi_poly(X, degree=3):
    return np.concatenate([X**i for i in range(degree + 1)], axis=1)

fig = go.FigureWidget(layout=plot_utils.dark_layout(
    [-0.1, 3.1], [-0.1, 1.1], xaxis_title='amount of sand', yaxis_title='strength of concrete')
)
fig.add_scatter(x=X.flatten(), y=y.flatten(), mode='markers', name='train', marker_size=10)
fig.add_scatter(x=X_grid.flatten(), y=true_f(X_grid).flatten(), name='true')

for degree in [1, 3, 9]:
    Phi = phi_poly(X, degree) # [N, 1] -> [N, K=degree + 1]
    w_fit = np.linalg.lstsq(Phi, y, rcond=None)[0] # [K, 1]

    f_grid = phi_poly(X_grid, degree).dot(w_fit) # [grid_size, 1]
    fig.add_scatter(x=X_grid.flatten(), y=f_grid.flatten(), name=f'degree={degree}')

fig.add_annotation(x=1, y=0, text=f'What do we predict here ? (-gazillion?)', arrowhead=7)
fig.show(renderer='notebook')


x = np.linspace(-5, 5, 100)
fig = go.FigureWidget(layout=plot_utils.dark_layout([-5, 5], [0, 1]))
fig.add_scatter(x=x, y=x**2, name='\phi(x) = x^2')
fig.add_scatter(x=x, y=np.exp(-(x - 0.5)**2 / 2), name='\phi(x) = RBF(x, c=0.5)')
fig.add_scatter(x=x, y=1 / (1 + np.exp(-(1 * x + 0))), name='\phi(x) = \sigma(x, v=1, b=0)')
fig.add_shape(type='rect', x0=0, y0=0, x1=1, y1=1, line_dash='dot')
fig.show(renderer='notebook')


fig = make_subplots(rows=1, cols=2, subplot_titles=('Fitting', 'Train vs validation set performance'))
fig.update_layout(template='plotly_dark')
fig.update_xaxes(title_text="amount of sand", range=[-0.1, 3.1], row=1, col=1)
fig.update_yaxes(title_text="strength of concrete", range=[-0.1, 1.1], row=1, col=1)

fig.update_xaxes(title_text="polynomial degree", row=1, col=2)
fig.update_yaxes(title_text="loss", range=[0, 3], row=1, col=2)

x_grid = np.linspace(0, 3, 100)[:, None] # [grid_size, 1]
true_f = lambda x: np.tanh(x) # the true generating function

def get_dataset(size):
    idxs = np.sort(np.random.choice(range(x_grid.shape[0]), size, replace=False))
    x = x_grid[idxs]
    y = true_f(x) + np.random.rand(x.shape[0])[:, None] / 10
    return x, y

def phi_poly(X, degree):
    return np.concatenate([X**i for i in range(degree + 1)], axis=1)

def loss(y, f):
    return ((y-f) ** 2).sum(axis=0)[0]

x_train, y_train = get_dataset(10)
x_val, y_val = get_dataset(30)

fig.add_scatter(
    x=x_train.flatten(), y=y_train.flatten(),
    mode='markers', name='train', marker_symbol='x', row=1, col=1
)
fig.add_scatter(
    x=x_val.flatten(), y=y_val.flatten(),
    mode='markers', name='valid', row=1, col=1
)

losses_train = []
losses_val = []

for degree in range(1, 10):
    Phi = phi_poly(x_train, degree) # [N, 1] -> [N, K=degree + 1]
    w_fit = np.linalg.lstsq(Phi, y_train, rcond=None)[0] # [K, 1]

    f_grid = phi_poly(x_grid, degree).dot(w_fit) # [grid_size, 1]
    if degree in [2, 5, 9]:
        fig.add_scatter(
            x=x_grid.flatten(), y=f_grid.flatten(),
            name=f'degree={degree}', row=1, col=1
        )

    f_train = phi_poly(x_train, degree).dot(w_fit)
    losses_train.append(loss(y_train, f_train))

    f_val = phi_poly(x_val, degree).dot(w_fit)
    losses_val.append(loss(y_val, f_val))


fig.add_scatter(x=list(range(1, 10)), y=losses_train, row=1, col=2, name='train loss')
fig.add_scatter(x=list(range(1, 10)), y=losses_val, row=1, col=2, name='val loss')
fig.show(renderer='notebook')


population = [1, 2, 3, 4, 5, 6]
PX = [0.4, 0, 0.1, 0.1, 0, 0.4]

def draw_from_PS(num_PX_samples):
    return np.random.choice(population, num_PX_samples, p=PX).mean()

fig = make_subplots(
    rows=2, cols=3, subplot_titles=(
        '$P_X$', '$\hat P_{S_1}$', '$\hat P_{S_5}$',
        '$\hat P_{S_{10}}$', '$\hat P_{S_{100}}$', '$\hat P_{S_{1000}}$'
    )
)
fig.update_layout(template='plotly_dark', showlegend=False)

fig.add_bar(x=population, y=PX, row=1, col=1)
fig.add_histogram(x=[draw_from_PS(1) for _ in range(10000)], row=1, col=2)
fig.add_histogram(x=[draw_from_PS(5) for _ in range(10000)], row=1, col=3)
fig.add_histogram(x=[draw_from_PS(10) for _ in range(10000)], row=2, col=1)
fig.add_histogram(x=[draw_from_PS(100) for _ in range(10000)], row=2, col=2)
fig.add_histogram(x=[draw_from_PS(1000) for _ in range(10000)], row=2, col=3)
fig.show(renderer='notebook')

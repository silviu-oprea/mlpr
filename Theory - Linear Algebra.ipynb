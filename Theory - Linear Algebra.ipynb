{
 "cells": [
  {
   "cell_type": "markdown",
   "metadata": {},
   "source": [
    "# Eigenvectors and eigenvalues\n",
    "\n",
    "Let $A$ be a fine matrix. It defines a linear transformation in a finite-dimensional space.\n",
    "- An <u>eigenvector</u> (or characteristic vector) $v$ of $A$ is a (nonzero) vector that changes at most by a scalar factor $\\lambda$ when that linear transformation is applied to it. \n",
    "- That factor by which $v$ is scaled by $A$ is an <u>eigenvalue</u>.\n",
    "\n",
    "Geometrically:\n",
    "- an eigenvector, corresponding to a real nonzero eigenvalue, points in a direction in which it is stretched by the transformation;\n",
    "- the eigenvalue is the factor by which it is stretched. If the eigenvalue is negative, the direction is reversed.\n",
    "\n",
    "Here are several uses in Machine Learning:\n",
    "- Principal Component Analysis: eigenvector are principal axes. Projection of inputs to the eigenvector are principal components.\n",
    "- Spectral Clustering"
   ]
  },
  {
   "cell_type": "markdown",
   "metadata": {},
   "source": [
    "# Useful matrices\n",
    "\n",
    "- Jacobian: vector of first-order partial derivatives of a vector valued function. Uses:\n",
    "  - during gradient descent.\n",
    "- Hessian: vector of second-order partial derivatives of a vector valued function. Uses:\n",
    "  - if the Hessian is positive semi-definite, the function is convex. Useful to know e.g. that the cost is convex, does not matter how we initialise the weights.\n",
    "  - second-order optimisation, i.e. optimisation methods that also utilise second order gradient information, such Newton's method."
   ]
  }
 ],
 "metadata": {
  "interpreter": {
   "hash": "68b355cc2da9a16373f175e969c590b929502fd45fdce3f5fc38f9d16ba5406c"
  },
  "kernelspec": {
   "display_name": "Python 3.7.12 64-bit ('nlp': conda)",
   "language": "python",
   "name": "python3"
  },
  "language_info": {
   "name": "python",
   "version": "3.7.12"
  },
  "orig_nbformat": 4
 },
 "nbformat": 4,
 "nbformat_minor": 2
}

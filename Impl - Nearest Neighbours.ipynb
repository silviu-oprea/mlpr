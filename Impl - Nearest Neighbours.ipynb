{
 "cells": [
  {
   "cell_type": "markdown",
   "metadata": {},
   "source": [
    "- A drawback of basic \"majority voting\" classification: when the class distribution is skewed, examples of a more frequent class dominate the prediction for the new example. This is because they tend to be common among the k nearest neighbors due to their large number.\n",
    "- One way to overcome this problem is to weight the classification, taking into account the distance from the test point to each of its k nearest neighbors.\n",
    "- That is, the class (or value, in regression problems) of each of the k nearest points is multiplied by a weight proportional to the inverse of the distance from that point to the test point."
   ]
  },
  {
   "cell_type": "markdown",
   "metadata": {},
   "source": [
    "# Naive implementation\n",
    "- Time: $O(Nd)$ where $N$ is the number of points in the set, and $d$ is the dimensionality of each point.\n",
    "- Space: O(1)."
   ]
  },
  {
   "cell_type": "code",
   "execution_count": 2,
   "metadata": {},
   "outputs": [
    {
     "ename": "TypeError",
     "evalue": "cannot unpack non-iterable NoneType object",
     "output_type": "error",
     "traceback": [
      "\u001b[0;31m---------------------------------------------------------------------------\u001b[0m",
      "\u001b[0;31mTypeError\u001b[0m                                 Traceback (most recent call last)",
      "\u001b[0;32m/var/folders/fn/38gpxmx55kj96sbm00f9l89m0000gn/T/ipykernel_6770/2006713744.py\u001b[0m in \u001b[0;36m<module>\u001b[0;34m\u001b[0m\n\u001b[1;32m     23\u001b[0m \u001b[0mk\u001b[0m \u001b[0;34m=\u001b[0m \u001b[0;36m10\u001b[0m\u001b[0;34m\u001b[0m\u001b[0;34m\u001b[0m\u001b[0m\n\u001b[1;32m     24\u001b[0m \u001b[0;34m\u001b[0m\u001b[0m\n\u001b[0;32m---> 25\u001b[0;31m \u001b[0mnn_points\u001b[0m\u001b[0;34m,\u001b[0m \u001b[0mnn_labels\u001b[0m \u001b[0;34m=\u001b[0m \u001b[0mnn_classify\u001b[0m\u001b[0;34m(\u001b[0m\u001b[0minputs\u001b[0m\u001b[0;34m,\u001b[0m \u001b[0mlabels\u001b[0m\u001b[0;34m,\u001b[0m \u001b[0mnew_point\u001b[0m\u001b[0;34m,\u001b[0m \u001b[0;36m10\u001b[0m\u001b[0;34m)\u001b[0m\u001b[0;34m\u001b[0m\u001b[0;34m\u001b[0m\u001b[0m\n\u001b[0m\u001b[1;32m     26\u001b[0m \u001b[0;31m# label = max(set(nn_labels), key=nn_labels.count) # works for python lists\u001b[0m\u001b[0;34m\u001b[0m\u001b[0;34m\u001b[0m\u001b[0;34m\u001b[0m\u001b[0m\n\u001b[1;32m     27\u001b[0m \u001b[0mlabel\u001b[0m \u001b[0;34m=\u001b[0m \u001b[0mnn_labels\u001b[0m\u001b[0;34m.\u001b[0m\u001b[0mmode\u001b[0m\u001b[0;34m(\u001b[0m\u001b[0;34m)\u001b[0m\u001b[0;34m.\u001b[0m\u001b[0mvalues\u001b[0m\u001b[0;34m.\u001b[0m\u001b[0mitem\u001b[0m\u001b[0;34m(\u001b[0m\u001b[0;34m)\u001b[0m\u001b[0;34m\u001b[0m\u001b[0;34m\u001b[0m\u001b[0m\n",
      "\u001b[0;31mTypeError\u001b[0m: cannot unpack non-iterable NoneType object"
     ]
    }
   ],
   "source": [
    "import torch\n",
    "import utils.plots as plot_utis\n",
    "\n",
    "def compute_distance(point1, point2):\n",
    "    squared_distance = ((point1 - point2)**2).sum()\n",
    "    return torch.sqrt(squared_distance)\n",
    "\n",
    "def nn_classify(inputs, labels, new_point, k):\n",
    "    idxs = range(len(inputs))\n",
    "    key = lambda idx: compute_distance(inputs[idx], new_point)\n",
    "    idxs = sorted(idxs, key=key)[:k]\n",
    "    inputs[idxs], labels[idxs]\n",
    "\n",
    "def nn_weighted_classify(inputs, labels, new_point, k):\n",
    "    idxs = range(len(inputs))\n",
    "    distances = torch.tensor([compute_distance(input, new_point) for input in inputs])\n",
    "    idxs = sorted(idxs, key=lambda idx: distances[idx])[:k]\n",
    "    inputs[idxs], labels[idxs], distances[idxs]\n",
    "\n",
    "inputs = torch.randn(50, 2)\n",
    "labels = torch.randint(0, 3, [50])\n",
    "new_point = torch.tensor([0, 0])\n",
    "k = 10\n",
    "\n",
    "nn_points, nn_labels = nn_classify(inputs, labels, new_point, 10)\n",
    "# label = max(set(nn_labels), key=nn_labels.count) # works for python lists\n",
    "label = nn_labels.mode().values.item()\n",
    "\n",
    "fig = plot_utis.figure(showlegend=False)\n",
    "fig.add_scatter(x=inputs[:, 0], y=inputs[:, 1],\n",
    "                mode='markers', marker=dict(size=10, color=labels))\n",
    "fig.add_annotation(x=0, y=0, text='point', arrowhead=7)\n",
    "fig.add_scatter(x=nn_points[:, 0], y=nn_points[:, 1], \n",
    "                mode='markers', marker=dict(symbol='x-open', size=15, color=nn_labels))\n",
    "fig.show(renderer='notebook')"
   ]
  }
 ],
 "metadata": {
  "interpreter": {
   "hash": "68b355cc2da9a16373f175e969c590b929502fd45fdce3f5fc38f9d16ba5406c"
  },
  "kernelspec": {
   "display_name": "Python 3.7.12 64-bit ('nlp': conda)",
   "language": "python",
   "name": "python3"
  },
  "language_info": {
   "codemirror_mode": {
    "name": "ipython",
    "version": 3
   },
   "file_extension": ".py",
   "mimetype": "text/x-python",
   "name": "python",
   "nbconvert_exporter": "python",
   "pygments_lexer": "ipython3",
   "version": "3.7.12"
  },
  "orig_nbformat": 4
 },
 "nbformat": 4,
 "nbformat_minor": 2
}

{
 "cells": [
  {
   "cell_type": "code",
   "execution_count": 1,
   "id": "6791c600-a2fd-46ad-8a4f-eec87460e1bf",
   "metadata": {},
   "outputs": [
    {
     "data": {
      "application/vnd.jupyter.widget-view+json": {
       "model_id": "e0dca63a9d174812a107f2ca070eaf91",
       "version_major": 2,
       "version_minor": 0
      },
      "text/plain": [
       "interactive(children=(IntSlider(value=0, description='w', max=3, min=-3), IntSlider(value=0, description='b', …"
      ]
     },
     "metadata": {},
     "output_type": "display_data"
    }
   ],
   "source": [
    "%matplotlib widget\n",
    "import numpy as np\n",
    "np.set_printoptions(precision=3)\n",
    "from ipywidgets import interact\n",
    "\n",
    "import matplotlib.pyplot as plt\n",
    "import numpy \n",
    "  \n",
    "fig, ax = plt.subplots(figsize=(4, 3))\n",
    "fig.tight_layout()\n",
    "fig.canvas.header_visible = False\n",
    "\n",
    "x = np.linspace(-5, 5, 50)\n",
    "  \n",
    "@interact\n",
    "def plot(w=(-3, 3, 1), b=(-3, 3, 1)):\n",
    "    ax.clear()\n",
    "    ax.set_xlim(-4, 4)\n",
    "    ax.set_ylim(-4, 4)\n",
    "    ax.plot(x, w * x + b)\n",
    "    plt.show()"
   ]
  },
  {
   "cell_type": "code",
   "execution_count": 2,
   "id": "35874c76-b0f2-4fd3-822f-5de013a5bfa5",
   "metadata": {},
   "outputs": [
    {
     "data": {
      "application/vnd.jupyter.widget-view+json": {
       "model_id": "790a1dc8db2e44beaed45c747e414b3c",
       "version_major": 2,
       "version_minor": 0
      },
      "text/plain": [
       "interactive(children=(FloatSlider(value=0.0, description='w1', max=3.0, min=-3.0, step=0.001), FloatSlider(val…"
      ]
     },
     "metadata": {},
     "output_type": "display_data"
    }
   ],
   "source": [
    "%matplotlib widget \n",
    "\n",
    "x1 = np.arange(-5, 6, 2)\n",
    "x2 = np.arange(-5, 6, 2)\n",
    "\n",
    "x1, x2 = np.meshgrid(x1, x2)\n",
    "y = x1 + x2\n",
    "\n",
    "fig, ax = plt.subplots(figsize=(4, 3), subplot_kw=dict(projection='3d'))\n",
    "fig.tight_layout()\n",
    "fig.canvas.header_visible = False\n",
    "\n",
    "@interact\n",
    "def plot(w1=(-3, 3, .001), w2=(-3, 3, .001), b=(-3, 3, .001)):\n",
    "    ax.clear()\n",
    "    ax.set_xlim(-4, 4)\n",
    "    ax.set_ylim(-4, 4)\n",
    "    ax.set_zlim(-4, 4)\n",
    "    ax.plot_surface(x1, x2, w1 * x1 + w2 * x2 + b)\n",
    "    plt.show()"
   ]
  },
  {
   "cell_type": "code",
   "execution_count": 3,
   "id": "d60c3d96-5858-4cb3-9562-2ec651dbd81e",
   "metadata": {},
   "outputs": [
    {
     "data": {
      "application/vnd.jupyter.widget-view+json": {
       "model_id": "2ebddb42f07d4c8997080834aa76b22b",
       "version_major": 2,
       "version_minor": 0
      },
      "text/plain": [
       "interactive(children=(IntSlider(value=0, description='v', max=5, min=-5), IntSlider(value=0, description='b', …"
      ]
     },
     "metadata": {},
     "output_type": "display_data"
    }
   ],
   "source": [
    "x = np.arange(-10, 10, 0.1)\n",
    "phi_sigmoid = lambda v, b: 1 / (1 + np.exp(-(v * x + b)))\n",
    "\n",
    "fig, ax = plt.subplots(figsize=(4, 3))\n",
    "fig.tight_layout()\n",
    "fig.canvas.header_visible = False\n",
    "\n",
    "@interact\n",
    "def plot(v=(-5, 5, 1), b=(-5, 5, 1)):\n",
    "    ax.clear()\n",
    "    ax.axhline(y=1, linestyle='--') \n",
    "    ax.plot(x, phi_sigmoid(v, b), label=r'$\\phi_\\sigma(x; 1, 0)$')\n",
    "    ax.set_xlim(-4, 4)\n",
    "    ax.set_ylim(-0.25, 1.25)\n",
    "    plt.show()"
   ]
  },
  {
   "cell_type": "code",
   "execution_count": 4,
   "id": "9de300f8-23ad-4d17-8bf0-74e020e300f6",
   "metadata": {},
   "outputs": [
    {
     "data": {
      "application/vnd.jupyter.widget-view+json": {
       "model_id": "35956b5cac70465093c6074cf4d6cbb7",
       "version_major": 2,
       "version_minor": 0
      },
      "text/plain": [
       "interactive(children=(IntSlider(value=0, description='v1', max=5, min=-5), IntSlider(value=0, description='v2'…"
      ]
     },
     "metadata": {},
     "output_type": "display_data"
    }
   ],
   "source": [
    "x = np.arange(-10, 10, 0.1)\n",
    "x1, x2 = np.meshgrid(x, x)\n",
    "phi_sigmoid = lambda v1, v2, b: 1 / (1 + np.exp(-(v1*x1 + v2*x2 + b)))\n",
    "\n",
    "fig, ax = plt.subplots(figsize=(4, 3))\n",
    "fig.tight_layout()\n",
    "fig.canvas.header_visible = False\n",
    "\n",
    "@interact\n",
    "def plot(v1=(-5, 5, 1), v2=(-5, 5, 1), b=(-5, 5, 1)):\n",
    "    ax.clear()\n",
    "    ax.contourf(x1, x2, phi_sigmoid(v1, v2, b))\n",
    "    plt.show()"
   ]
  }
 ],
 "metadata": {
  "kernelspec": {
   "display_name": "Python 3 (ipykernel)",
   "language": "python",
   "name": "python3"
  },
  "language_info": {
   "codemirror_mode": {
    "name": "ipython",
    "version": 3
   },
   "file_extension": ".py",
   "mimetype": "text/x-python",
   "name": "python",
   "nbconvert_exporter": "python",
   "pygments_lexer": "ipython3",
   "version": "3.13.0"
  }
 },
 "nbformat": 4,
 "nbformat_minor": 5
}

{
 "cells": [
  {
   "cell_type": "markdown",
   "metadata": {},
   "source": [
    "$$\n",
    "    \\text{accuracy} = \\frac{\\text{\\# correct predictions}}{\\text{\\#predictions}}\n",
    "$$\n",
    "\n",
    "Limitations:\n",
    "- inappropriate for imbalanced classification problems. Say almost all targets in our _sample_ test set happen to be 0. A classifier that does nothing and always outputs 0 will have a very high accuracy. But this will not generalise.\n",
    "\n",
    "Alternatives:\n",
    "- <u>Precision</u> quantifies the number of positive class predictions that actually belong to the positive class. Out of the times we said label = 1, how many times were we right?\n",
    "- <u>Recall</u> quantifies the number of positive class predictions made out of all positive examples in the dataset. Out of all the label = 1 in the dataset, how many did we recognise?\n",
    "- <u>F-measure</u> or <u>F-score</u> provides a single score that balances both the concerns of precision and recall in one number. It penalises large differences between precision and recall.\n",
    "\n",
    "A <u>confusion matrix</u> looks like this for two classes:\n",
    "\n",
    "|            | prediction = 1      | prediction = 0      |\n",
    "| ---------- | ------------------- | ------------------- |\n",
    "| target = 1 | True Positive (TP)  | False Negative (FN) |\n",
    "| target = 0 | False Positive (FP) | True Negative (TN)  |\n",
    "\n",
    "$$\n",
    "\\begin{align*}\n",
    "    \\text{precision}_1 &= \\frac{\\text{TP}}{\\text{TP} + \\text{FP}}\\\\\n",
    "    \\text{recall}_1 &= \\frac{ \\text{TP} }{ \\text{TP} + \\text{FN} }\\\\\n",
    "    \\text{f1}_1 &= \\frac{2 \\cdot \\text{precision} \\cdot \\text{recall}}{\\text{precision} + \\text{recall}}\\\\\n",
    "\\end{align*}\n",
    "$$\n",
    "\n",
    "So, for instance, a true positive is a prediction that was the same as the target.\n",
    "For multiple classes, a confusion matrix looks like this:\n",
    "\n",
    "|            | prediction = 0                      | prediction = 1 | prediction = 2 |\n",
    "| ---------- | ----------------------------------- | -------------- | -------------- |\n",
    "| target = 0 | T0                                  | F1             | F2             |\n",
    "| target = 1 | F0 #(prediction = 0 and target = 1) | T1             | F2             |\n",
    "| target = 2 | F0                                  | F1             | T2             |"
   ]
  },
  {
   "cell_type": "markdown",
   "metadata": {},
   "source": [
    "## Macro average\n",
    "$$\n",
    "\\begin{align*}\n",
    "    \\text{precision}_c &= \\frac{ \\text{pred} = c \\text{ and } \\text{target} = c  }{ \\sum_i \\text{pred} = c \\text{ and } \\text{target} = i  } =& \\frac{M_{ii}}{\\sum_{j} M_{ji}}\\\\\n",
    "    \\text{recall}_c &= \\frac{ \\text{pred} = c \\text{ and } \\text{target} = c }{ \\sum_i \\text{pred} = i \\text{ and } \\text{target} = c } =& \\frac{M_{ii}}{ \\sum_j M_{ij} }\\\\\n",
    "\\end{align*}\n",
    "$$\n",
    "\n",
    "So:\n",
    "- precision for class c is the diagonal element on row c, divided by the sum of <u>column</u> c;\n",
    "- recall for class c is the diagonal element on row c, divided by the sum of <u>row</u> c.\n",
    "\n",
    "Limitations:\n",
    "- Not great for imbalanced classes. Say we have 2 classes: 2 examples from class A, and a lot from class B, and we get precision 0.5 on both classes. It should be a bigger deal that we got 0.5 on B, since we have a lot of examples.\n",
    "\n",
    "Ways to address:\n",
    "- weigh each precision by the ration of examples: prec_a * #A / (#A + #B) + prec_b  * #B/ (#A + #B).\n",
    "- report not just mean, but also standard deviation (average  difference from mean).\n",
    "- compute micro average."
   ]
  },
  {
   "cell_type": "markdown",
   "metadata": {},
   "source": [
    "## Micro average\n",
    "But this will produce equal precision, recall, and f1 if we consider all classes."
   ]
  },
  {
   "cell_type": "code",
   "execution_count": 22,
   "metadata": {},
   "outputs": [
    {
     "name": "stdout",
     "output_type": "stream",
     "text": [
      "tensor(0.5385)\n",
      "tensor(0.6019)\n"
     ]
    }
   ],
   "source": [
    "import torch\n",
    "targets = torch.tensor([1, 0, 2, 0, 2, 0, 2, 0, 1, 0, 2, 0, 1]).float()\n",
    "outputs = torch.tensor([1, 0, 0, 0, 0, 0, 0, 0, 0, 0, 0, 0, 0]).float()\n",
    "\n",
    "accuracy = (targets == outputs).float().mean()\n",
    "print(accuracy)\n",
    "\n",
    "precision_lst = []\n",
    "epsilon = 1e-8\n",
    "\n",
    "for c in targets.unique():\n",
    "    TP = ((targets == c) & (outputs == c)).sum()\n",
    "    FP = ((targets != c) & (outputs == c)).sum()\n",
    "    precision = TP / (TP + FP + epsilon)\n",
    "    precision_lst.append(precision)\n",
    "\n",
    "weights = torch.bincount(targets.int()).float()\n",
    "weights = weights / weights.mean()\n",
    "\n",
    "precisions = torch.tensor(precision_lst)\n",
    "precision = (precisions / weights).mean()\n",
    "\n",
    "print(precision)"
   ]
  },
  {
   "cell_type": "markdown",
   "metadata": {},
   "source": []
  }
 ],
 "metadata": {
  "interpreter": {
   "hash": "68b355cc2da9a16373f175e969c590b929502fd45fdce3f5fc38f9d16ba5406c"
  },
  "kernelspec": {
   "display_name": "Python 3 (ipykernel)",
   "language": "python",
   "name": "python3"
  },
  "language_info": {
   "codemirror_mode": {
    "name": "ipython",
    "version": 3
   },
   "file_extension": ".py",
   "mimetype": "text/x-python",
   "name": "python",
   "nbconvert_exporter": "python",
   "pygments_lexer": "ipython3",
   "version": "3.13.0"
  }
 },
 "nbformat": 4,
 "nbformat_minor": 4
}
